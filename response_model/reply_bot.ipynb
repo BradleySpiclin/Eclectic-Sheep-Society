{
 "cells": [
  {
   "cell_type": "code",
   "execution_count": 1,
   "id": "69a2e480-678f-485a-ac1a-601c6aea68be",
   "metadata": {},
   "outputs": [
    {
     "data": {
      "text/plain": [
       "False"
      ]
     },
     "execution_count": 1,
     "metadata": {},
     "output_type": "execute_result"
    }
   ],
   "source": [
    "import torch\n",
    "torch.cuda.is_available()"
   ]
  },
  {
   "cell_type": "code",
   "execution_count": 2,
   "id": "f0b50ee4-5356-4680-8edc-14cf25ee8363",
   "metadata": {},
   "outputs": [],
   "source": [
    "from transformers import BertForQuestionAnswering\n",
    "from transformers import BertTokenizer"
   ]
  },
  {
   "cell_type": "code",
   "execution_count": 3,
   "id": "35baa73f-7ba4-4780-95f1-be82a61f259d",
   "metadata": {},
   "outputs": [],
   "source": [
    "question = '''alcohol related deaths in 2021'''\n",
    "\n",
    "paragraph = ''' In 2021, ABS Causes of Death reported 1,559 alcohol-induced deaths registered (1,156 males and 403 females) (ABS 2022a, Table 13.11): The alcohol-induced death rate for males was almost 3 times higher than females (8.3 per 100,000 population for males, compared with 2.8 deaths per 100,000 population for females) '''\n",
    "     "
   ]
  },
  {
   "cell_type": "code",
   "execution_count": 4,
   "id": "3cc01f98-6049-49b7-beb8-d0d63f80909a",
   "metadata": {},
   "outputs": [],
   "source": [
    "#Model\n",
    "model = BertForQuestionAnswering.from_pretrained('bert-large-uncased-whole-word-masking-finetuned-squad')\n",
    "\n",
    "#Tokenizer\n",
    "tokenizer = BertTokenizer.from_pretrained('bert-large-uncased-whole-word-masking-finetuned-squad')"
   ]
  },
  {
   "cell_type": "code",
   "execution_count": 5,
   "id": "68afbc46-01b7-4384-896c-fb196321320a",
   "metadata": {},
   "outputs": [],
   "source": [
    "       \n",
    "encoding = tokenizer.encode_plus(text=question,text_pair=paragraph)\n",
    "\n",
    "inputs = encoding['input_ids']  #Token embeddings\n",
    "sentence_embedding = encoding['token_type_ids']  #Segment embeddings\n",
    "tokens = tokenizer.convert_ids_to_tokens(inputs) #input token"
   ]
  },
  {
   "cell_type": "code",
   "execution_count": 6,
   "id": "d026a4ef-4544-4ce2-ab8d-c00bcc77d45f",
   "metadata": {},
   "outputs": [],
   "source": [
    "start_scores, end_scores = model(input_ids=torch.tensor([inputs]), token_type_ids=torch.tensor([sentence_embedding]), return_dict=False)"
   ]
  },
  {
   "cell_type": "code",
   "execution_count": 7,
   "id": "2e2091af-4f7b-4f1b-9349-42ca2fc1e030",
   "metadata": {},
   "outputs": [],
   "source": [
    "start_index = torch.argmax(start_scores)\n",
    "\n",
    "end_index = torch.argmax(end_scores)\n",
    "\n",
    "answer = ' '.join(tokens[start_index:end_index+1])"
   ]
  },
  {
   "cell_type": "code",
   "execution_count": 8,
   "id": "f60a2f55-e767-456c-a0d6-2ad71cb95bfd",
   "metadata": {},
   "outputs": [
    {
     "name": "stdout",
     "output_type": "stream",
     "text": [
      " in 2021 , abs causes of death reported 1 , 559 alcohol - induced deaths registered\n"
     ]
    }
   ],
   "source": [
    "corrected_answer = ''\n",
    "\n",
    "for word in answer.split():\n",
    "    \n",
    "    #If it's a subword token\n",
    "    if word[0:2] == '##':\n",
    "        corrected_answer += word[2:]\n",
    "    else:\n",
    "        corrected_answer += ' ' + word\n",
    "\n",
    "print(corrected_answer)"
   ]
  },
  {
   "cell_type": "code",
   "execution_count": null,
   "id": "13a17f08-2553-4dec-8efa-0b2f9b8a1c53",
   "metadata": {},
   "outputs": [],
   "source": []
  }
 ],
 "metadata": {
  "kernelspec": {
   "display_name": "Python 3 (ipykernel)",
   "language": "python",
   "name": "python3"
  },
  "language_info": {
   "codemirror_mode": {
    "name": "ipython",
    "version": 3
   },
   "file_extension": ".py",
   "mimetype": "text/x-python",
   "name": "python",
   "nbconvert_exporter": "python",
   "pygments_lexer": "ipython3",
   "version": "3.9.17"
  }
 },
 "nbformat": 4,
 "nbformat_minor": 5
}
